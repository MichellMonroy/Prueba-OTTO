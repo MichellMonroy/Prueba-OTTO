{
 "cells": [
  {
   "cell_type": "code",
   "execution_count": 1,
   "metadata": {},
   "outputs": [],
   "source": [
    "#import os\n",
    "#import path\n",
    "#import numpy as np\n",
    "import pandas as pd\n",
    "import fastparquet"
   ]
  },
  {
   "cell_type": "code",
   "execution_count": 2,
   "metadata": {},
   "outputs": [],
   "source": [
    "#Obtener los labels\n",
    "def labels(data, columna):\n",
    "    label_list = []\n",
    "    count = 0\n",
    "    for chunk in data:\n",
    "        #label_list.append(chunk)\n",
    "        for i in chunk[columna].unique().tolist(): #Se hace en todo el dataset para verificar la totalidad de Label\n",
    "            label_list.append(i)\n",
    "        count += 1\n",
    "    print(count, \" iteraciones\")\n",
    "    return set(label_list)"
   ]
  },
  {
   "cell_type": "code",
   "execution_count": 3,
   "metadata": {},
   "outputs": [],
   "source": [
    "#Cargar el dataset y crear los archivos TSV y Parquet\n",
    "\n",
    "def data4label(data, label):\n",
    "    c_list = []\n",
    "    for chunk in data:  \n",
    "        # Seleccionar los datos de acuerdo a Label\n",
    "        c_filter = chunk[chunk['Label'] == label]\n",
    "        # Añadir los datos a la lista de objetos\n",
    "        c_list.append(c_filter)\n",
    "    # Concatenar los datos filtrados en un DataFrame \n",
    "    df = pd.concat(c_list)\n",
    "    # Regresar el df convertido a archivo TSV\n",
    "    df_tsv = df.to_csv(label.replace(\" \", \"_\")+'-data.tsv', sep = '\\t')\n",
    "    print(\"Dataset \", label,\".tsv listo\")\n",
    "    #Hacer el parquet\n",
    "    df_pq = parquet(df, ['Country Code', 'Label Net Total'], label)\n",
    "    print(\"Dataset \", label,\".parquet listo\")\n",
    "    return df_tsv, df_pq"
   ]
  },
  {
   "cell_type": "code",
   "execution_count": 4,
   "metadata": {},
   "outputs": [],
   "source": [
    "def parquet(df, cols, lab):\n",
    "    aux = df[cols]\n",
    "    aux = aux.groupby('Country Code').sum()\n",
    "    aux['Label'] = lab\n",
    "    return aux.to_parquet(lab.replace(\" \", \"_\")+'.parquet', engine='fastparquet', compression='UNCOMPRESSED')"
   ]
  },
  {
   "cell_type": "markdown",
   "metadata": {},
   "source": [
    "### Se cargan los datos con un chunksize de 10**6 para no saturar la memoria"
   ]
  },
  {
   "cell_type": "code",
   "execution_count": 5,
   "metadata": {},
   "outputs": [],
   "source": [
    "size = 10**6 #El dataset se carga con un chunksize = 10**6 para evitar saturar la memoria"
   ]
  },
  {
   "cell_type": "code",
   "execution_count": 6,
   "metadata": {
    "tags": []
   },
   "outputs": [
    {
     "name": "stdout",
     "output_type": "stream",
     "text": [
      "33  iteraciones\n",
      "33  iteraciones\n",
      "{nan, 'DK', 'SK', 'CR', 'EC', 'PE', 'BR', 'AD', 'NG', 'SN', 'CY', 'FI', 'NI', 'BH', 'DO', 'DZ', 'MY', 'SV', 'MX', 'AL', 'CA', 'PS', 'KW', 'AZ', 'PL', 'ME', 'LB', 'UA', 'CZ', 'CL', 'MN', 'KZ', 'TN', 'LU', 'NO', 'MD', 'ES', 'PT', 'IE', 'CH', 'SD', 'AE', 'GT', 'RU', 'CN', 'SE', 'HU', 'OM', 'JO', 'UG', 'RO', 'GB', 'IS', 'SA', 'NL', 'AU', 'IN', 'LV', 'HR', 'IL', 'KY', 'CO', 'RS', 'XK', 'PA', 'SI', 'AT', 'MZ', 'TZ', 'KG', 'KH', 'NZ', 'BO', 'EE', 'MT', 'ZZ', 'KE', 'TW', 'LT', 'QA', 'MA', 'PY', 'KR', 'TH', 'BA', 'EG', 'US', 'HK', 'ZA', 'IT', 'NP', 'DE', 'GR', 'JP', 'UY', 'SG', 'BY', 'AR', 'PH', 'FR', 'BE', 'BG', 'TR', 'ID', 'VN', 'HN', 'TT', 'KN', 'PK'}\n",
      "{'debonair account', 'redundant substance', 'billowy rake'}\n"
     ]
    }
   ],
   "source": [
    "#Solo se usó para saber cuales eran las diferentes columnas\n",
    "cols = ['Country Code', 'Label'] \n",
    "for i in range(len(cols)):\n",
    "    df_col = pd.read_csv('dig_fake.csv', usecols=cols, chunksize=size)\n",
    "    locals()[str(cols[i]).replace(\" \", \"_\") + \"_values\"] = labels(df_col, cols[i])\n",
    "    \n",
    "print(Country_Code_values)\n",
    "print(Label_values)"
   ]
  },
  {
   "cell_type": "markdown",
   "metadata": {},
   "source": [
    "## Hacer Archivo TSV y Parquet"
   ]
  },
  {
   "cell_type": "code",
   "execution_count": 6,
   "metadata": {},
   "outputs": [
    {
     "name": "stdout",
     "output_type": "stream",
     "text": [
      "Dataset  redundant substance .tsv listo\n",
      "Dataset  redundant substance .parquet listo\n",
      "Dataset  debonair account .tsv listo\n",
      "Dataset  debonair account .parquet listo\n",
      "Dataset  billowy rake .tsv listo\n",
      "Dataset  billowy rake .parquet listo\n"
     ]
    }
   ],
   "source": [
    "#Las siguientes columas son con las que se pide trabajar\n",
    "columnas = ['Customer', 'Title_Description', 'UPC', 'Product ID', 'Artist', 'Product Title', 'Country Code', \n",
    "            'Transaction Type', 'Quantity', 'Label Net Total', 'Label']\n",
    "Label_values = list(Label_values)\n",
    "for i in range(len(Label_values)):\n",
    "    df_chunk = pd.read_csv('dig_fake.csv', usecols=columnas, chunksize=size)\n",
    "    data4label(df_chunk, Label_values[i])"
   ]
  },
  {
   "cell_type": "code",
   "execution_count": 7,
   "metadata": {},
   "outputs": [
    {
     "data": {
      "text/html": [
       "<div>\n",
       "<style scoped>\n",
       "    .dataframe tbody tr th:only-of-type {\n",
       "        vertical-align: middle;\n",
       "    }\n",
       "\n",
       "    .dataframe tbody tr th {\n",
       "        vertical-align: top;\n",
       "    }\n",
       "\n",
       "    .dataframe thead th {\n",
       "        text-align: right;\n",
       "    }\n",
       "</style>\n",
       "<table border=\"1\" class=\"dataframe\">\n",
       "  <thead>\n",
       "    <tr style=\"text-align: right;\">\n",
       "      <th></th>\n",
       "      <th>Label Net Total</th>\n",
       "      <th>Label</th>\n",
       "    </tr>\n",
       "    <tr>\n",
       "      <th>Country Code</th>\n",
       "      <th></th>\n",
       "      <th></th>\n",
       "    </tr>\n",
       "  </thead>\n",
       "  <tbody>\n",
       "    <tr>\n",
       "      <th>AD</th>\n",
       "      <td>13.678537</td>\n",
       "      <td>debonair account</td>\n",
       "    </tr>\n",
       "    <tr>\n",
       "      <th>AE</th>\n",
       "      <td>498.749024</td>\n",
       "      <td>debonair account</td>\n",
       "    </tr>\n",
       "    <tr>\n",
       "      <th>AL</th>\n",
       "      <td>34.968387</td>\n",
       "      <td>debonair account</td>\n",
       "    </tr>\n",
       "    <tr>\n",
       "      <th>AR</th>\n",
       "      <td>2977.314064</td>\n",
       "      <td>debonair account</td>\n",
       "    </tr>\n",
       "    <tr>\n",
       "      <th>AT</th>\n",
       "      <td>10198.778365</td>\n",
       "      <td>debonair account</td>\n",
       "    </tr>\n",
       "  </tbody>\n",
       "</table>\n",
       "</div>"
      ],
      "text/plain": [
       "              Label Net Total             Label\n",
       "Country Code                                   \n",
       "AD                  13.678537  debonair account\n",
       "AE                 498.749024  debonair account\n",
       "AL                  34.968387  debonair account\n",
       "AR                2977.314064  debonair account\n",
       "AT               10198.778365  debonair account"
      ]
     },
     "execution_count": 7,
     "metadata": {},
     "output_type": "execute_result"
    }
   ],
   "source": [
    "#Revisar los archivos Parquet\n",
    "df1 = pd.read_parquet('debonair_account.parquet')\n",
    "df1.head()"
   ]
  },
  {
   "cell_type": "code",
   "execution_count": null,
   "metadata": {},
   "outputs": [],
   "source": [
    "#df1['Label'] = 'debonair account'"
   ]
  },
  {
   "cell_type": "code",
   "execution_count": 9,
   "metadata": {},
   "outputs": [],
   "source": [
    "df2 = pd.read_parquet('redundant_substance.parquet')"
   ]
  },
  {
   "cell_type": "code",
   "execution_count": 10,
   "metadata": {},
   "outputs": [],
   "source": [
    "df3 = pd.read_parquet('billowy_rake.parquet')"
   ]
  },
  {
   "cell_type": "code",
   "execution_count": 12,
   "metadata": {},
   "outputs": [
    {
     "data": {
      "text/html": [
       "<div>\n",
       "<style scoped>\n",
       "    .dataframe tbody tr th:only-of-type {\n",
       "        vertical-align: middle;\n",
       "    }\n",
       "\n",
       "    .dataframe tbody tr th {\n",
       "        vertical-align: top;\n",
       "    }\n",
       "\n",
       "    .dataframe thead th {\n",
       "        text-align: right;\n",
       "    }\n",
       "</style>\n",
       "<table border=\"1\" class=\"dataframe\">\n",
       "  <thead>\n",
       "    <tr style=\"text-align: right;\">\n",
       "      <th></th>\n",
       "      <th>Label Net Total</th>\n",
       "      <th>Label</th>\n",
       "    </tr>\n",
       "    <tr>\n",
       "      <th>Country Code</th>\n",
       "      <th></th>\n",
       "      <th></th>\n",
       "    </tr>\n",
       "  </thead>\n",
       "  <tbody>\n",
       "    <tr>\n",
       "      <th>AD</th>\n",
       "      <td>13.678537</td>\n",
       "      <td>debonair account</td>\n",
       "    </tr>\n",
       "    <tr>\n",
       "      <th>AE</th>\n",
       "      <td>498.749024</td>\n",
       "      <td>debonair account</td>\n",
       "    </tr>\n",
       "    <tr>\n",
       "      <th>AL</th>\n",
       "      <td>34.968387</td>\n",
       "      <td>debonair account</td>\n",
       "    </tr>\n",
       "    <tr>\n",
       "      <th>AR</th>\n",
       "      <td>2977.314064</td>\n",
       "      <td>debonair account</td>\n",
       "    </tr>\n",
       "    <tr>\n",
       "      <th>AT</th>\n",
       "      <td>10198.778365</td>\n",
       "      <td>debonair account</td>\n",
       "    </tr>\n",
       "    <tr>\n",
       "      <th>...</th>\n",
       "      <td>...</td>\n",
       "      <td>...</td>\n",
       "    </tr>\n",
       "    <tr>\n",
       "      <th>UY</th>\n",
       "      <td>460.252163</td>\n",
       "      <td>billowy rake</td>\n",
       "    </tr>\n",
       "    <tr>\n",
       "      <th>VN</th>\n",
       "      <td>857.964145</td>\n",
       "      <td>billowy rake</td>\n",
       "    </tr>\n",
       "    <tr>\n",
       "      <th>XK</th>\n",
       "      <td>2.471951</td>\n",
       "      <td>billowy rake</td>\n",
       "    </tr>\n",
       "    <tr>\n",
       "      <th>ZA</th>\n",
       "      <td>6699.811319</td>\n",
       "      <td>billowy rake</td>\n",
       "    </tr>\n",
       "    <tr>\n",
       "      <th>ZZ</th>\n",
       "      <td>760982.804661</td>\n",
       "      <td>billowy rake</td>\n",
       "    </tr>\n",
       "  </tbody>\n",
       "</table>\n",
       "<p>324 rows × 2 columns</p>\n",
       "</div>"
      ],
      "text/plain": [
       "              Label Net Total             Label\n",
       "Country Code                                   \n",
       "AD                  13.678537  debonair account\n",
       "AE                 498.749024  debonair account\n",
       "AL                  34.968387  debonair account\n",
       "AR                2977.314064  debonair account\n",
       "AT               10198.778365  debonair account\n",
       "...                       ...               ...\n",
       "UY                 460.252163      billowy rake\n",
       "VN                 857.964145      billowy rake\n",
       "XK                   2.471951      billowy rake\n",
       "ZA                6699.811319      billowy rake\n",
       "ZZ              760982.804661      billowy rake\n",
       "\n",
       "[324 rows x 2 columns]"
      ]
     },
     "execution_count": 12,
     "metadata": {},
     "output_type": "execute_result"
    }
   ],
   "source": [
    "#Concatenar los archivos parquet (solo por comodiad)\n",
    "df_parquet = pd.concat([df1,df2, df3])\n",
    "df_parquet"
   ]
  }
 ],
 "metadata": {
  "kernelspec": {
   "display_name": "Python 3",
   "language": "python",
   "name": "python3"
  },
  "language_info": {
   "codemirror_mode": {
    "name": "ipython",
    "version": 3
   },
   "file_extension": ".py",
   "mimetype": "text/x-python",
   "name": "python",
   "nbconvert_exporter": "python",
   "pygments_lexer": "ipython3",
   "version": "3.7.4"
  }
 },
 "nbformat": 4,
 "nbformat_minor": 4
}
